{
  "nbformat": 4,
  "nbformat_minor": 0,
  "metadata": {
    "colab": {
      "provenance": [],
      "authorship_tag": "ABX9TyMudWNTzksNhWkBEhVKOuGF",
      "include_colab_link": true
    },
    "kernelspec": {
      "name": "ir",
      "display_name": "R"
    },
    "language_info": {
      "name": "R"
    }
  },
  "cells": [
    {
      "cell_type": "markdown",
      "metadata": {
        "id": "view-in-github",
        "colab_type": "text"
      },
      "source": [
        "<a href=\"https://colab.research.google.com/github/PabloBorrero/reto1/blob/main/Des_Agru_NoAgru.ipynb\" target=\"_parent\"><img src=\"https://colab.research.google.com/assets/colab-badge.svg\" alt=\"Open In Colab\"/></a>"
      ]
    },
    {
      "cell_type": "markdown",
      "source": [
        "# **Medidas de tendencia central de datos no agrupados**"
      ],
      "metadata": {
        "id": "NvtAliE4I4xA"
      }
    },
    {
      "cell_type": "code",
      "source": [
        "edad <- c(43,65,45,37,55,33)\n",
        "peso <- c(87.3, 80.0, 82.3, 73.6, 74.1, 85.9)\n",
        "altura <- c(188.0, 174.0, 176.5, 180.3, 167.6, 188.0)\n",
        "sexo <- c(\"Hombre\", \"Hombre\",\"Hombre\",\"Mujer\",\"Hombre\",\"Mujer\")\n",
        "muneca <- c(12.2, 12.0, 11.2, 11.2, 11.8, 12.4)\n",
        "biceps <- c(35.8, 35.0, 38.5, 32.2, 32.9, 38.5)\n",
        "\n",
        "datos <- c(edad, peso, altura, sexo, muneca, biceps)\n",
        "midata <- matrix(data= datos, nrow = 6, ncol = 6, byrow = F)\n",
        "colnames(midata) = c(\"edad\", \"peso\", \"altura\", \"sexo\", \"muñeca\", \"biceps\")\n",
        "midata\n"
      ],
      "metadata": {
        "id": "qHKBJMLf0fBq"
      },
      "execution_count": null,
      "outputs": []
    },
    {
      "cell_type": "markdown",
      "source": [
        "Dato más grande y Máx pequeño en ALTURA"
      ],
      "metadata": {
        "id": "qmLo_4mZMODY"
      }
    },
    {
      "cell_type": "code",
      "source": [
        "max(altura)\n",
        "min(altura)"
      ],
      "metadata": {
        "id": "JEwmL_kuJXU4"
      },
      "execution_count": null,
      "outputs": []
    },
    {
      "cell_type": "markdown",
      "source": [
        "# **Media, Mediana y Moda, y desviación estandar para ALTURA**"
      ],
      "metadata": {
        "id": "ZkopDsmOMWLP"
      }
    },
    {
      "cell_type": "code",
      "source": [
        "mean(altura)\n",
        "median(altura)\n",
        "mode(altura)\n",
        "sd(altura)"
      ],
      "metadata": {
        "id": "wuqJqBICMfPP"
      },
      "execution_count": null,
      "outputs": []
    },
    {
      "cell_type": "code",
      "source": [
        "summary(altura)"
      ],
      "metadata": {
        "id": "zwDenOAVrCys"
      },
      "execution_count": null,
      "outputs": []
    },
    {
      "cell_type": "markdown",
      "source": [
        "# **Cuantiles de la variable ALTURA**"
      ],
      "metadata": {
        "id": "LXB89nccMq5G"
      }
    },
    {
      "cell_type": "code",
      "source": [
        "quantile(altura)"
      ],
      "metadata": {
        "id": "5LBBKWGnM6j2"
      },
      "execution_count": null,
      "outputs": []
    },
    {
      "cell_type": "markdown",
      "source": [
        "# **Sacar la ALTURA por sexo**"
      ],
      "metadata": {
        "id": "A93IdA39NHiH"
      }
    },
    {
      "cell_type": "code",
      "source": [
        "sapply(split(x=altura, f=sexo), mean)"
      ],
      "metadata": {
        "id": "NrZpXd5mLlMX"
      },
      "execution_count": null,
      "outputs": []
    },
    {
      "cell_type": "markdown",
      "source": [
        "# **Sacar el histograma de frecuencia para la variable altura y luego altura con sexo**"
      ],
      "metadata": {
        "id": "Oy2gMfGtNZ-_"
      }
    },
    {
      "cell_type": "code",
      "source": [
        "hist(edad)"
      ],
      "metadata": {
        "id": "34yyGcvYPK4_"
      },
      "execution_count": null,
      "outputs": []
    },
    {
      "cell_type": "markdown",
      "source": [
        "# **Medidas de disperción de datos no agrupados**"
      ],
      "metadata": {
        "id": "h6V5rRGvdUlM"
      }
    },
    {
      "cell_type": "markdown",
      "source": [
        "# **Varianza**"
      ],
      "metadata": {
        "id": "6B_PK2NJeJLk"
      }
    },
    {
      "cell_type": "code",
      "source": [
        "var(altura)"
      ],
      "metadata": {
        "id": "aAxeqo1MdCPv"
      },
      "execution_count": null,
      "outputs": []
    },
    {
      "cell_type": "markdown",
      "source": [
        "# **Rango**"
      ],
      "metadata": {
        "id": "4wV4bwKQeL7t"
      }
    },
    {
      "cell_type": "code",
      "source": [
        "range(altura)"
      ],
      "metadata": {
        "id": "fORW_XspeISu"
      },
      "execution_count": null,
      "outputs": []
    },
    {
      "cell_type": "markdown",
      "source": [
        "# **Coeficiente de Variación**"
      ],
      "metadata": {
        "id": "A-0NJ7fbfdNO"
      }
    },
    {
      "cell_type": "code",
      "source": [
        "sd(altura)/mean(altura)"
      ],
      "metadata": {
        "id": "hak6mtiZfjxd"
      },
      "execution_count": null,
      "outputs": []
    },
    {
      "cell_type": "markdown",
      "source": [
        "# Calcular **proporciones**"
      ],
      "metadata": {
        "id": "ruTOuUVdimas"
      }
    },
    {
      "cell_type": "code",
      "source": [
        "install.packages(\"rstatix\")\n",
        "install.packages(\"tidyverse\")\n",
        "library(rstatix)\n",
        "library(tidyverse)      "
      ],
      "metadata": {
        "id": "HcUEevI9iryr"
      },
      "execution_count": null,
      "outputs": []
    },
    {
      "cell_type": "markdown",
      "source": [
        "#**DATOS AGRUPADOS**"
      ],
      "metadata": {
        "id": "o3WF122GzSn6"
      }
    },
    {
      "cell_type": "code",
      "source": [
        "install.packages(\"openxlsx\")\n",
        "install.packages(\"repmis\")\n",
        "install.packages(\"agricolae\")\n",
        "library(repmis)\n",
        "library(dplyr)\n",
        "library(openxlsx)   #Para exportar tablas de R a Excel\n",
        "library(agricolae)  #Para crear tablas de frecuencias agrupadas"
      ],
      "metadata": {
        "id": "pquTLkewzdfB"
      },
      "execution_count": null,
      "outputs": []
    },
    {
      "cell_type": "markdown",
      "source": [
        "# Nuestro data **frame**\n",
        "Opción A (web, desde github): Para esta opción, se necesita cargar la librería “repmis”:"
      ],
      "metadata": {
        "id": "ZzbJMgZk0QhK"
      }
    },
    {
      "cell_type": "code",
      "source": [
        "source_data(\"https://github.com/hllinas/DatosPublicos/blob/main/Estudiantes.Rdata?raw=false\")\n",
        "datosCompleto <- Estudiantes"
      ],
      "metadata": {
        "id": "vFdSPl9d0Q-x"
      },
      "execution_count": null,
      "outputs": []
    },
    {
      "cell_type": "markdown",
      "source": [
        "# Mostrar la cabeza (6) de los **datos**"
      ],
      "metadata": {
        "id": "hXdPhI3NC1J6"
      }
    },
    {
      "cell_type": "code",
      "source": [
        "head(datosCompleto)"
      ],
      "metadata": {
        "id": "MV5bKsdJCr1w"
      },
      "execution_count": null,
      "outputs": []
    },
    {
      "cell_type": "markdown",
      "source": [
        "# Tablas de frecuencias **agrupadas**\n",
        "En esta sección se construye una tabla de frecuencias agrupadas para una variable continua. Para ello, se utilizará la función table.freq de la librería agricolae. Esta función encuentra las frecuencias absolutas, relativas y acumuladas con los intervalos de clase definidos a partir de un histograma previamente calculado por la función hist de R. La línea de comando base es:"
      ],
      "metadata": {
        "id": "hLtfl6x6DNvI"
      }
    },
    {
      "cell_type": "markdown",
      "source": [
        "Trabajamos con el paquete (agricolae)"
      ],
      "metadata": {
        "id": "E125t1wUKI4f"
      }
    },
    {
      "cell_type": "code",
      "source": [
        "install.packages(\"agricolae\")\n",
        "library(agricolae)"
      ],
      "metadata": {
        "id": "XGchyOqtGTz_"
      },
      "execution_count": null,
      "outputs": []
    },
    {
      "cell_type": "markdown",
      "source": [
        "Ejemplo # 1"
      ],
      "metadata": {
        "id": "gDkXPCn_K6CO"
      }
    },
    {
      "cell_type": "markdown",
      "source": [
        "Convertimos la variable edad, como numerica"
      ],
      "metadata": {
        "id": "yvcM0PldKOWX"
      }
    },
    {
      "cell_type": "code",
      "source": [
        "variable <- as.numeric(datosCompleto$Edad) "
      ],
      "metadata": {
        "id": "P5kD8HJwIM8f"
      },
      "execution_count": null,
      "outputs": []
    },
    {
      "cell_type": "markdown",
      "source": [
        "Al aplicar las funciones hist y table.freq de la librería agricolae, obtenemos la tabla deseada. Primero, la lista:"
      ],
      "metadata": {
        "id": "NxoVniOVKVOe"
      }
    },
    {
      "cell_type": "code",
      "source": [
        "Lista <- hist(variable,plot=FALSE); Lista  "
      ],
      "metadata": {
        "id": "LiRCkdfqIqcP"
      },
      "execution_count": null,
      "outputs": []
    },
    {
      "cell_type": "markdown",
      "source": [
        "Y, ahora, la tabla:"
      ],
      "metadata": {
        "id": "VRhX4-UzKflG"
      }
    },
    {
      "cell_type": "code",
      "source": [
        "Tabla1 <- table.freq(Lista); Tabla1  # Tabla agrupada"
      ],
      "metadata": {
        "id": "zs1IPaFTJLAX"
      },
      "execution_count": null,
      "outputs": []
    },
    {
      "cell_type": "markdown",
      "source": [
        "Ejemplo # 2\n",
        "Supongamos que se quiere construir una tabla de frecuencias agrupadas para la variable Puntaje. La tabla de frecuencias agrupadas es:"
      ],
      "metadata": {
        "id": "jl-xXd-TK9dX"
      }
    },
    {
      "cell_type": "code",
      "source": [
        "variable <- datosCompleto$Puntaje      #D) La variable\n",
        "Lista <- hist(variable,plot=FALSE)     #E) La lista\n",
        "Tabla1 <- table.freq(Lista); Tabla1    #F) La tabla agrupada"
      ],
      "metadata": {
        "id": "WEDRLSgZK-2v"
      },
      "execution_count": null,
      "outputs": []
    }
  ]
}